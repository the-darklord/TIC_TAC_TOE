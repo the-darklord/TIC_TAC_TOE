{
 "cells": [
  {
   "cell_type": "code",
   "execution_count": null,
   "id": "62db9c19-5e1c-4c0c-a743-6e795f030ee1",
   "metadata": {
    "tags": []
   },
   "outputs": [],
   "source": [
    "def showBoard(board):\n",
    "    print(\"\\n\\nGame Board\\n\\n\");\n",
    "    for i in range(0,9):\n",
    "        if board[i]==0:\n",
    "            print(\"__\",end=\"\\t\");\n",
    "        if board[i]==-1:\n",
    "            print(\"X\",end=\"\\t\");\n",
    "        if board[i]==1:\n",
    "            print(\"O\",end=\"\\t\");\n",
    "        if i%3==2:\n",
    "            print(\"\\n\\n\");\n",
    "    print(\"\\n\");"
   ]
  },
  {
   "cell_type": "code",
   "execution_count": null,
   "id": "d1b36a49-10fc-4b71-97db-9c15f7296289",
   "metadata": {
    "tags": []
   },
   "outputs": [],
   "source": [
    "def analyzeboard(board):\n",
    "    wins=[[0,1,2],[3,4,5],[6,7,8],[0,3,6],[1,4,7],[2,5,8],[0,4,8],[2,4,6]];\n",
    "    for i in range(0,8):\n",
    "        x=sum(board[pos] for pos in wins[i])/3;\n",
    "        if x==1 or x==-1:\n",
    "            return x;\n",
    "    return 0;"
   ]
  },
  {
   "cell_type": "code",
   "execution_count": null,
   "id": "284cd875-3e53-469a-9f43-1c7fb696a40f",
   "metadata": {
    "tags": []
   },
   "outputs": [],
   "source": [
    "def Player1Turn(board):\n",
    "    print(\"Position to Place [1,2...,8,9]\\n\");\n",
    "    pos=int(input(\"Enter Position : \"));\n",
    "    while board[pos-1]!=0:\n",
    "        print(\"Can't place here\");\n",
    "        pos=int(input(\"Enter other Position : \"));\n",
    "    board[pos-1]=-1;"
   ]
  },
  {
   "cell_type": "code",
   "execution_count": null,
   "id": "d11689bc-9301-4428-a244-1f52dd3df370",
   "metadata": {
    "tags": []
   },
   "outputs": [],
   "source": [
    "def Player2Turn(board):\n",
    "    print(\"Position to Place [1,2...,8,9]\\n\");\n",
    "    pos=int(input(\"Enter Position : \"));\n",
    "    while board[pos-1]!=0:\n",
    "        print(\"Can't place here\");\n",
    "        pos=int(input(\"Enter other Position : \"));\n",
    "    board[pos-1]=1;"
   ]
  },
  {
   "cell_type": "code",
   "execution_count": null,
   "id": "50d78007-02ef-4810-8b9d-b0f68175055b",
   "metadata": {
    "tags": []
   },
   "outputs": [],
   "source": [
    "def minmax(board,player):\n",
    "    x=analyzeboard(board);\n",
    "    if x!=0:\n",
    "        return x*player;\n",
    "    pos=-1;\n",
    "    val=-2;\n",
    "    for i in range(0,9):\n",
    "        if board[i]==0:\n",
    "            board[i]=player;\n",
    "            score=-minmax(board,-1*player);\n",
    "            board[i]=0;\n",
    "            if score > val:\n",
    "                val=score;\n",
    "                pos=i;\n",
    "    if pos==-1:\n",
    "        return 0;\n",
    "    return val;"
   ]
  },
  {
   "cell_type": "code",
   "execution_count": null,
   "id": "069a4f3b-f54e-4229-811d-0fd03e61328c",
   "metadata": {
    "tags": []
   },
   "outputs": [],
   "source": [
    "def AITurn(board):\n",
    "    pos=-1;\n",
    "    val=-2;\n",
    "    for i in range(0,9):\n",
    "        if board[i]==0:\n",
    "            board[i]=1;\n",
    "            score=-minmax(board,-1);\n",
    "            board[i]=0;\n",
    "            if score > val:\n",
    "                val=score;\n",
    "                pos=i;\n",
    "    board[pos]=1;"
   ]
  },
  {
   "cell_type": "code",
   "execution_count": null,
   "id": "5de42564-9385-43b6-9683-7f0db4209627",
   "metadata": {
    "tags": []
   },
   "outputs": [],
   "source": [
    "def main():\n",
    "    print(\"TIC TAC TOE Game \\n\");\n",
    "    print(\"\\n\\tGame Modes : \\n\\t\\t1) Single Player \\n\\t\\t2) Multi Player \\n\");\n",
    "    choice=int(input(\"\\nEnter Preferred Game Mode : \"));\n",
    "    print(\"\\n\\nLet's get the Game Started !!! \\n\\n\");\n",
    "    board=[0,0,0,0,0,0,0,0,0]\n",
    "    if choice==1:\n",
    "        print(\"\\nComputer : O\\t\\tYou : X\\n\");\n",
    "        print(\"\\n\\tPlay Turn : \\n\\t\\t1) You Play First \\n\\t\\t2) AI Play First \\n\");\n",
    "        turn=int(input(\"\\nEnter Preferred Play Turn : \"));\n",
    "        for i in range(0,9):\n",
    "            if analyzeboard(board)!=0:\n",
    "                break;\n",
    "            else:\n",
    "                if (i+turn)%2==0:\n",
    "                    AITurn(board);\n",
    "                else:\n",
    "                    showBoard(board);\n",
    "                    Player1Turn(board);\n",
    "    else:\n",
    "        print(\"\\nPlayer 1 : O\\t\\tPlayer 2 : X\\n\");\n",
    "        print(\"\\n\\tPlay Turn : \\n\\t\\t1) Player 1 Play First \\n\\t\\t2) Player 2 Play First \\n\");\n",
    "        turn=int(input(\"\\nEnter Preferred Play Turn : \"));\n",
    "        for i in range(0,9):\n",
    "            if analyzeboard(board)!=0:\n",
    "                break;\n",
    "            else:\n",
    "                if (i+turn)%2==0:\n",
    "                    showBoard(board);\n",
    "                    Player2Turn(board);\n",
    "                else:\n",
    "                    showBoard(board);\n",
    "                    Player1Turn(board);\n",
    "    \n",
    "    x=int(analyzeboard(board));\n",
    "    showBoard(board);\n",
    "    if x==0:\n",
    "        print(\"\\n\\nDraw Match !!!!\\n\\n\");\n",
    "    if x==-1:\n",
    "        print(\"\\n\\nPlayer X wins !!!!\\n\\n\");\n",
    "    if x==1:\n",
    "        print(\"\\n\\nPlayer O wins !!!!\\n\\n\");\n",
    "    \n",
    "    print(\"\\n\\nGAME OVER SUCKERS !!!\\n\\n\");"
   ]
  },
  {
   "cell_type": "code",
   "execution_count": null,
   "id": "1a1c244f-b4b0-410d-8fbc-2d9443c26e82",
   "metadata": {
    "tags": []
   },
   "outputs": [],
   "source": [
    "if __name__ == \"__main__\":\n",
    "   main()"
   ]
  }
 ],
 "metadata": {
  "kernelspec": {
   "display_name": "Python 3 (ipykernel)",
   "language": "python",
   "name": "python3"
  },
  "language_info": {
   "codemirror_mode": {
    "name": "ipython",
    "version": 3
   },
   "file_extension": ".py",
   "mimetype": "text/x-python",
   "name": "python",
   "nbconvert_exporter": "python",
   "pygments_lexer": "ipython3",
   "version": "3.11.3"
  }
 },
 "nbformat": 4,
 "nbformat_minor": 5
}
